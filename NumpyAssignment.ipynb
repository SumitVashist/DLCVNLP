{
 "cells": [
  {
   "cell_type": "markdown",
   "metadata": {},
   "source": [
    "# Numpy Assignment"
   ]
  },
  {
   "cell_type": "code",
   "execution_count": 1,
   "metadata": {},
   "outputs": [],
   "source": [
    "import numpy as np\n"
   ]
  },
  {
   "cell_type": "markdown",
   "metadata": {},
   "source": [
    "### Write a function so that the columns of the output matrix are powers of the input vector.\n",
    "\n",
    "#### The order of the powers is determined by the increasing boolean argument. Specifically, when increasing is False, the i-th output column is the input vector raised element-wise to the power of N - i - 1.\n",
    "\n",
    "#### HINT: Such a matrix with a geometric progression in each row is named for Alexandre-Theophile Vandermonde."
   ]
  },
  {
   "cell_type": "code",
   "execution_count": 2,
   "metadata": {},
   "outputs": [
    {
     "name": "stdout",
     "output_type": "stream",
     "text": [
      "Increasing Matrix:\n",
      "[[ 1  5 25]\n",
      " [ 1  2  4]\n",
      " [ 1  3  9]\n",
      " [ 1  4 16]]\n",
      "\n",
      "Decreasing Matrix: \n",
      "[[25  5  1]\n",
      " [ 4  2  1]\n",
      " [ 9  3  1]\n",
      " [16  4  1]]\n",
      "--------------------------------------------------\n"
     ]
    }
   ],
   "source": [
    "def fun(vector,n,increasing=False):\n",
    "    if not increasing:\n",
    "        out_matrix=np.array([x**(n-i-1) for x in vector for i in range(n)]).reshape(vector.size,n)\n",
    "    elif increasing:\n",
    "        out_matrix=np.array([x**i for x in vector for i in range(n) ]).reshape(vector.size,n)\n",
    "    \n",
    "    return out_matrix\n",
    "\n",
    "vector=np.array([5,2 ,3, 4])\n",
    "n=3\n",
    "matrix_decreasing=fun(vector,n,False)\n",
    "matrix_increasing=fun(vector,n,True)\n",
    "\n",
    "\n",
    "\n",
    "print(\"Increasing Matrix:\")\n",
    "print(matrix_increasing)\n",
    "print()\n",
    "\n",
    "\n",
    "print(\"Decreasing Matrix: \")\n",
    "print(matrix_decreasing)\n",
    "print('-'*50)"
   ]
  },
  {
   "cell_type": "markdown",
   "metadata": {},
   "source": [
    "##### Given a sequence of n values x1, x2, ..., xn and a window size k>0, the k-th moving average of the given sequence is defined as follows:\n",
    "#### The moving average sequence has n-k+1 elements as shown below.\n",
    "#### The moving averages with k=4 of a ten-value sequence (n=10) is shown below\n",
    "i 1 2 3 4 5 6 7 8 9 10<br>\n",
    "===== == == == == == == == == == ==<br>\n",
    "Input 10 20 30 40 50 60 70 80 90 100<br>\n",
    "y1 25 = (10+20+30+40)/4<br>\n",
    "y2 35 = (20+30+40+50)/4<br>\n",
    "y3 45 = (30+40+50+60)/4<br>\n",
    "y4 55 = (40+50+60+70)/4<br>\n",
    "y5 65 = (50+60+70+80)/4<br>\n",
    "y6 75 = (60+70+80+90)/4<br>\n",
    "y7 85 = (70+80+90+100)/4<br>\n",
    "#### Thus, the moving average sequence has n-k+1=10-4+1=7 values."
   ]
  },
  {
   "cell_type": "markdown",
   "metadata": {},
   "source": [
    "### Question: Write a function to find moving average in an array over a window:\n",
    "#### Test it over [3, 5, 7, 2, 8, 10, 11, 65, 72, 81, 99, 100, 150] and window of 3."
   ]
  },
  {
   "cell_type": "code",
   "execution_count": 3,
   "metadata": {},
   "outputs": [
    {
     "name": "stdout",
     "output_type": "stream",
     "text": [
      "Simple Test\n",
      "y1 =25.0 \n",
      "y2 =35.0 \n",
      "y3 =45.0 \n",
      "y4 =55.0 \n",
      "y5 =65.0 \n",
      "y6 =75.0 \n",
      "y7 =85.0 \n",
      "--------------------------------------------------\n",
      "\n",
      "Final Test\n",
      "y1 =5.0 \n",
      "y2 =4.666666666666667 \n",
      "y3 =5.666666666666667 \n",
      "y4 =6.666666666666667 \n",
      "y5 =9.666666666666666 \n",
      "y6 =28.666666666666668 \n",
      "y7 =49.333333333333336 \n",
      "y8 =72.66666666666667 \n",
      "y9 =84.0 \n",
      "y10 =93.33333333333333 \n",
      "y11 =116.33333333333333 \n"
     ]
    }
   ],
   "source": [
    "def movingAverage(vector,window):\n",
    "    for i in range(len(vector)):\n",
    "        new_vector=vector[i:i+window]\n",
    "        if len(new_vector) < window:\n",
    "            break\n",
    "        else :\n",
    "            print(\"y{} ={} \".format(i+1,(np.average(new_vector))))\n",
    "\n",
    "print(\"Simple Test\")\n",
    "vector=np.array([10,20,30,40,50,60,70,80,90,100])\n",
    "window=4\n",
    "movingAverage(vector,window)\n",
    "print(\"-\"*50)\n",
    "print()\n",
    "# testing\n",
    "print(\"Final Test\")\n",
    "vector=np.array([3, 5, 7, 2, 8, 10, 11, 65, 72, 81, 99, 100, 150])\n",
    "window=3\n",
    "movingAverage(vector,window)"
   ]
  },
  {
   "cell_type": "code",
   "execution_count": null,
   "metadata": {},
   "outputs": [],
   "source": []
  },
  {
   "cell_type": "code",
   "execution_count": null,
   "metadata": {},
   "outputs": [],
   "source": []
  },
  {
   "cell_type": "code",
   "execution_count": null,
   "metadata": {},
   "outputs": [],
   "source": []
  }
 ],
 "metadata": {
  "kernelspec": {
   "display_name": "Python 3",
   "language": "python",
   "name": "python3"
  },
  "language_info": {
   "codemirror_mode": {
    "name": "ipython",
    "version": 3
   },
   "file_extension": ".py",
   "mimetype": "text/x-python",
   "name": "python",
   "nbconvert_exporter": "python",
   "pygments_lexer": "ipython3",
   "version": "3.7.6"
  }
 },
 "nbformat": 4,
 "nbformat_minor": 4
}
