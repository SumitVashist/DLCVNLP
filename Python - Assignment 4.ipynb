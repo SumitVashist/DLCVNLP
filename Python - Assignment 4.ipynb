{
 "cells": [
  {
   "cell_type": "markdown",
   "metadata": {},
   "source": [
    "\n",
    "#                                       Assignment 4"
   ]
  },
  {
   "cell_type": "markdown",
   "metadata": {},
   "source": [
    "### Q1.1. WAP (with class concepts) to find the area of the triangle using the below formula.\n",
    "#### area = (s * (s-a) * (s-b) * (s-c)) * * 0.5\n",
    "#### Function to take the length of the sides of triangle from user should be defined in the parent class and function to calculate the area should be defined in subclass."
   ]
  },
  {
   "cell_type": "code",
   "execution_count": 9,
   "metadata": {},
   "outputs": [
    {
     "name": "stdout",
     "output_type": "stream",
     "text": [
      "Enter the value of the first side: 3\n",
      "Enter the value of the second side: 4\n",
      "Enter the value of the third side: 5\n",
      "Area of traingle :  6.0\n"
     ]
    }
   ],
   "source": [
    "class Triangle(object):\n",
    "    def __init__(self,a,b,c):\n",
    "        self.a=a\n",
    "        self.b=b\n",
    "        self.c=c\n",
    "        validity_check=self.valid_check()\n",
    "        if validity_check:\n",
    "            pass\n",
    "        else:\n",
    "            print(\"Not a valid triangle  !! \")\n",
    "        \n",
    "    def valid_check(self):\n",
    "        if self.a+self.b>self.c and self.a+self.c>self.b and self.b+self.c>self.a:\n",
    "            return True\n",
    "        else:\n",
    "            return False\n",
    "        \n",
    "class Area(Triangle):\n",
    "    def __init__(self,a,b,c):\n",
    "        super().__init__(a,b,c)\n",
    "        self.s=(a+b+c)/2\n",
    "    def area(self):\n",
    "        area=(self.s*(self.s-self.a)*(self.s-self.b)*(self.s-self.c))**0.5\n",
    "        return area\n",
    "    \n",
    "a = int(input(\"Enter the value of the first side: \"))\n",
    "b = int(input(\"Enter the value of the second side: \"))\n",
    "c = int(input(\"Enter the value of the third side: \"))\n",
    "    \n",
    "triangle=Area(a,b,c)\n",
    "print(\"Area of traingle : \",triangle.area())"
   ]
  },
  {
   "cell_type": "markdown",
   "metadata": {},
   "source": [
    "### Q1.2. WAF filter_long_words() that takes a list of words and an integer n and returns the list of words that are longer than n."
   ]
  },
  {
   "cell_type": "code",
   "execution_count": 10,
   "metadata": {},
   "outputs": [
    {
     "name": "stdout",
     "output_type": "stream",
     "text": [
      "Enter a integer value : 4\n"
     ]
    },
    {
     "data": {
      "text/plain": [
       "['hello', 'world', 'Sumit', 'Kumar']"
      ]
     },
     "execution_count": 10,
     "metadata": {},
     "output_type": "execute_result"
    }
   ],
   "source": [
    "def filter_long_words(words,num):\n",
    "    results=[]\n",
    "    for word in words:\n",
    "        if len(word)>num:\n",
    "            results.append(word)\n",
    "    return results\n",
    "\n",
    "words=['hello','world',',','this','is','Sumit','Kumar','!']\n",
    "n=int(input('Enter a integer value : '))\n",
    "filter_long_words(words,n)"
   ]
  },
  {
   "cell_type": "markdown",
   "metadata": {},
   "source": [
    "### Q2.1. WAP using function concept that maps list of words into a list of integers representing the lengths of the corresponding words.\n",
    "#### Hint: \n",
    "If a list [ ab,cde,erty] is passed on to the python function output should come as [2,3,4] Here 2,3 and 4 are the lengths of the words in the list."
   ]
  },
  {
   "cell_type": "code",
   "execution_count": 11,
   "metadata": {},
   "outputs": [
    {
     "name": "stdout",
     "output_type": "stream",
     "text": [
      "List of words :  ['ab', 'cde', 'erty']\n",
      "Wordlength : [2, 3, 4]\n"
     ]
    }
   ],
   "source": [
    "def wordtolengthMapper(words):\n",
    "    result=[]\n",
    "    for word in words:\n",
    "        result.append(len(word))\n",
    "    return result\n",
    "\n",
    "\n",
    "words=['ab','cde','erty']\n",
    "result=wordtolengthMapper(words)\n",
    "print (\"List of words :  \"+str(words))    \n",
    "print (\"Wordlength : \"+str(result))\n"
   ]
  },
  {
   "cell_type": "markdown",
   "metadata": {},
   "source": [
    "### Q2.2. Write a Python function which takes a character (i.e. a string of length 1) and returns True if it is a vowel, False otherwise."
   ]
  },
  {
   "cell_type": "code",
   "execution_count": 12,
   "metadata": {},
   "outputs": [
    {
     "name": "stdout",
     "output_type": "stream",
     "text": [
      "True\n",
      "True\n",
      "False\n",
      "False\n"
     ]
    }
   ],
   "source": [
    "def checkVowel(char):\n",
    "    if char in 'aeiouAEIOU' and len(char)==1:\n",
    "        return True\n",
    "    else:\n",
    "        return False\n",
    "    \n",
    "print(checkVowel('a'))\n",
    "print(checkVowel('e'))\n",
    "print(checkVowel('sumit'))\n",
    "print(checkVowel('m'))"
   ]
  },
  {
   "cell_type": "code",
   "execution_count": null,
   "metadata": {},
   "outputs": [],
   "source": []
  }
 ],
 "metadata": {
  "kernelspec": {
   "display_name": "Python 3",
   "language": "python",
   "name": "python3"
  },
  "language_info": {
   "codemirror_mode": {
    "name": "ipython",
    "version": 3
   },
   "file_extension": ".py",
   "mimetype": "text/x-python",
   "name": "python",
   "nbconvert_exporter": "python",
   "pygments_lexer": "ipython3",
   "version": "3.7.6"
  }
 },
 "nbformat": 4,
 "nbformat_minor": 4
}
